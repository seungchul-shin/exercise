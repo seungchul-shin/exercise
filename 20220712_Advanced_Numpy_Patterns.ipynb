{
 "cells": [
  {
   "cell_type": "code",
   "execution_count": 1,
   "id": "680ab2e2",
   "metadata": {},
   "outputs": [],
   "source": [
    "# 2022.07.12"
   ]
  },
  {
   "cell_type": "code",
   "execution_count": 24,
   "id": "c68d5e03",
   "metadata": {},
   "outputs": [],
   "source": [
    "import os\n",
    "import numpy as np"
   ]
  },
  {
   "cell_type": "code",
   "execution_count": 25,
   "id": "4efa5b42",
   "metadata": {},
   "outputs": [],
   "source": [
    "os.chdir(\"D:/Data/scipy-japan-2019-master/\")"
   ]
  },
  {
   "cell_type": "code",
   "execution_count": 150,
   "id": "eba85f55",
   "metadata": {},
   "outputs": [],
   "source": [
    "def print_info(a):\n",
    "    print('number of elements:', a.size)\n",
    "    print('number of dimensions:', a.ndim)\n",
    "    print('shape:', a.shape)\n",
    "    print('data type:', a.dtype)\n",
    "    print('strides:', a.strides)\n",
    "    print('flags:')\n",
    "    print(a.flags)"
   ]
  },
  {
   "cell_type": "markdown",
   "id": "5639719d",
   "metadata": {},
   "source": [
    "# Exercise\n",
    "Generate a `10X3` array of random numbers. From each row, pick the column containing the number closest to 0.75.\n",
    "\n",
    "*Hint*: use of `np.abs` and `np.argmin` to find the column `j` that contains the closest element in each row `i`. The final result should be a vector of Integers of shape `(10,)`."
   ]
  },
  {
   "cell_type": "code",
   "execution_count": 3,
   "id": "003c24df",
   "metadata": {},
   "outputs": [
    {
     "data": {
      "text/plain": [
       "array([[0.74459892, 0.97659783, 0.2056693 ],\n",
       "       [0.0089329 , 0.58837478, 0.94661059],\n",
       "       [0.35760014, 0.70039534, 0.20678466],\n",
       "       [0.20515222, 0.30150611, 0.51552786],\n",
       "       [0.28283932, 0.97428146, 0.59177274],\n",
       "       [0.84394652, 0.01981214, 0.05776358],\n",
       "       [0.18300668, 0.31979835, 0.30916865],\n",
       "       [0.75321311, 0.39768372, 0.17342078],\n",
       "       [0.52225993, 0.30614162, 0.86014646],\n",
       "       [0.68550705, 0.00301339, 0.88411033]])"
      ]
     },
     "execution_count": 3,
     "metadata": {},
     "output_type": "execute_result"
    }
   ],
   "source": [
    "arr = np.random.random((10, 3))\n",
    "arr"
   ]
  },
  {
   "cell_type": "code",
   "execution_count": 16,
   "id": "1e4233ee",
   "metadata": {},
   "outputs": [],
   "source": [
    "# My code"
   ]
  },
  {
   "cell_type": "code",
   "execution_count": 12,
   "id": "f260a422",
   "metadata": {},
   "outputs": [
    {
     "data": {
      "text/plain": [
       "array([0, 1, 1, 2, 2, 0, 1, 0, 2, 0], dtype=int64)"
      ]
     },
     "execution_count": 12,
     "metadata": {},
     "output_type": "execute_result"
    }
   ],
   "source": [
    "np.argmin(np.abs(arr-0.75), axis=1)"
   ]
  },
  {
   "cell_type": "code",
   "execution_count": 23,
   "id": "ecc872ba",
   "metadata": {},
   "outputs": [
    {
     "data": {
      "text/plain": [
       "array([0.74459892, 0.58837478, 0.70039534, 0.51552786, 0.59177274,\n",
       "       0.84394652, 0.31979835, 0.75321311, 0.86014646, 0.68550705])"
      ]
     },
     "execution_count": 23,
     "metadata": {},
     "output_type": "execute_result"
    }
   ],
   "source": [
    "arr[np.arange(10), np.argmin(np.abs(arr-0.75), axis=1)]"
   ]
  },
  {
   "cell_type": "code",
   "execution_count": 17,
   "id": "70570a2a",
   "metadata": {},
   "outputs": [],
   "source": [
    "# Answer"
   ]
  },
  {
   "cell_type": "code",
   "execution_count": 18,
   "id": "d6db284e",
   "metadata": {},
   "outputs": [
    {
     "data": {
      "text/plain": [
       "array([[0.00540108, 0.22659783, 0.5443307 ],\n",
       "       [0.7410671 , 0.16162522, 0.19661059],\n",
       "       [0.39239986, 0.04960466, 0.54321534],\n",
       "       [0.54484778, 0.44849389, 0.23447214],\n",
       "       [0.46716068, 0.22428146, 0.15822726],\n",
       "       [0.09394652, 0.73018786, 0.69223642],\n",
       "       [0.56699332, 0.43020165, 0.44083135],\n",
       "       [0.00321311, 0.35231628, 0.57657922],\n",
       "       [0.22774007, 0.44385838, 0.11014646],\n",
       "       [0.06449295, 0.74698661, 0.13411033]])"
      ]
     },
     "execution_count": 18,
     "metadata": {},
     "output_type": "execute_result"
    }
   ],
   "source": [
    "dist75 = np.abs(arr - 0.75)\n",
    "dist75"
   ]
  },
  {
   "cell_type": "code",
   "execution_count": 21,
   "id": "29fa2c8b",
   "metadata": {},
   "outputs": [
    {
     "data": {
      "text/plain": [
       "array([0, 1, 1, 2, 2, 0, 1, 0, 2, 0], dtype=int64)"
      ]
     },
     "execution_count": 21,
     "metadata": {},
     "output_type": "execute_result"
    }
   ],
   "source": [
    "np.argmin(dist75, axis=1) # axis along columns"
   ]
  },
  {
   "cell_type": "code",
   "execution_count": 220,
   "id": "ae766fa7",
   "metadata": {},
   "outputs": [],
   "source": [
    "# Find closest elements"
   ]
  },
  {
   "cell_type": "code",
   "execution_count": 222,
   "id": "ff053a97",
   "metadata": {},
   "outputs": [],
   "source": [
    "col_indices = np.argmin(dist75, axis=1)\n",
    "closest = arr[np.arange(arr.shape[0]), col_indices]"
   ]
  },
  {
   "cell_type": "code",
   "execution_count": 223,
   "id": "12a67492",
   "metadata": {},
   "outputs": [
    {
     "data": {
      "text/plain": [
       "array([0.74459892, 0.58837478, 0.70039534, 0.51552786, 0.59177274,\n",
       "       0.84394652, 0.31979835, 0.75321311, 0.86014646, 0.68550705])"
      ]
     },
     "execution_count": 223,
     "metadata": {},
     "output_type": "execute_result"
    }
   ],
   "source": [
    "closest"
   ]
  },
  {
   "cell_type": "markdown",
   "id": "f9c907a0",
   "metadata": {},
   "source": [
    "# Exercise\n",
    "Some applications, such as clustering, are computationally expensive, and wouldn't work without first doing some form of *feature selection*, where we discard most of the data and keep only what we think will be most useful. One simple version is to keep only the genes with the most variance (as these will be more informative thatn genes that don't vary between patients).\n",
    "\n",
    "* Find the variance across patients of all the genes (rows) in the expression dataset.\n",
    "* Use `np.argsort` to find the location of the 1,500 most variable genes.\n",
    "* Use these indices to produce a shape `(1500, 375)` matrix containing only the most variable genes."
   ]
  },
  {
   "cell_type": "code",
   "execution_count": 26,
   "id": "ec45ef15",
   "metadata": {},
   "outputs": [],
   "source": [
    "expr = np.load('expr.npy')"
   ]
  },
  {
   "cell_type": "code",
   "execution_count": 27,
   "id": "a13e6f16",
   "metadata": {},
   "outputs": [],
   "source": [
    "row_variance = np.var(expr, axis=1) # axis along columns"
   ]
  },
  {
   "cell_type": "code",
   "execution_count": 28,
   "id": "0ae3896f",
   "metadata": {},
   "outputs": [
    {
     "data": {
      "text/plain": [
       "(20500,)"
      ]
     },
     "execution_count": 28,
     "metadata": {},
     "output_type": "execute_result"
    }
   ],
   "source": [
    "row_variance.shape"
   ]
  },
  {
   "cell_type": "code",
   "execution_count": 63,
   "id": "738a19a5",
   "metadata": {},
   "outputs": [],
   "source": [
    "row_variance_order = np.argsort(row_variance)[::-1] # descending order"
   ]
  },
  {
   "cell_type": "code",
   "execution_count": 64,
   "id": "c6c41abf",
   "metadata": {},
   "outputs": [],
   "source": [
    "most_variable_rows = row_variance_order[-1500:] # last 1500 variables"
   ]
  },
  {
   "cell_type": "code",
   "execution_count": 65,
   "id": "668e1f2d",
   "metadata": {},
   "outputs": [
    {
     "data": {
      "text/plain": [
       "(20500,)"
      ]
     },
     "execution_count": 65,
     "metadata": {},
     "output_type": "execute_result"
    }
   ],
   "source": [
    "row_variance_order.shape"
   ]
  },
  {
   "cell_type": "code",
   "execution_count": 66,
   "id": "2f9556a2",
   "metadata": {},
   "outputs": [
    {
     "data": {
      "text/plain": [
       "array([ 7424, 10080, 14683, ..., 17851,  1800, 14473], dtype=int64)"
      ]
     },
     "execution_count": 66,
     "metadata": {},
     "output_type": "execute_result"
    }
   ],
   "source": [
    "row_variance_order"
   ]
  },
  {
   "cell_type": "code",
   "execution_count": 67,
   "id": "2ef4c187",
   "metadata": {},
   "outputs": [
    {
     "data": {
      "text/plain": [
       "(1500,)"
      ]
     },
     "execution_count": 67,
     "metadata": {},
     "output_type": "execute_result"
    }
   ],
   "source": [
    "most_variable_rows.shape"
   ]
  },
  {
   "cell_type": "code",
   "execution_count": 68,
   "id": "bd0a6245",
   "metadata": {},
   "outputs": [
    {
     "data": {
      "text/plain": [
       "array([17987,  9840,  1691, ..., 17851,  1800, 14473], dtype=int64)"
      ]
     },
     "execution_count": 68,
     "metadata": {},
     "output_type": "execute_result"
    }
   ],
   "source": [
    "most_variable_rows"
   ]
  },
  {
   "cell_type": "code",
   "execution_count": 69,
   "id": "6e3e6dce",
   "metadata": {},
   "outputs": [],
   "source": [
    "most_variable_data = expr[most_variable_rows] # .loc[orders]"
   ]
  },
  {
   "cell_type": "code",
   "execution_count": 70,
   "id": "92ed447a",
   "metadata": {},
   "outputs": [
    {
     "data": {
      "text/plain": [
       "(1500, 375)"
      ]
     },
     "execution_count": 70,
     "metadata": {},
     "output_type": "execute_result"
    }
   ],
   "source": [
    "most_variable_data.shape"
   ]
  },
  {
   "cell_type": "code",
   "execution_count": 71,
   "id": "4ea6dac8",
   "metadata": {},
   "outputs": [],
   "source": [
    "# my code"
   ]
  },
  {
   "cell_type": "code",
   "execution_count": 74,
   "id": "6afc1c3e",
   "metadata": {},
   "outputs": [],
   "source": [
    "import matplotlib.pyplot as plt\n",
    "%matplotlib inline"
   ]
  },
  {
   "cell_type": "code",
   "execution_count": 75,
   "id": "86577a8b",
   "metadata": {},
   "outputs": [
    {
     "data": {
      "text/plain": [
       "<matplotlib.collections.PathCollection at 0x2e6c9931f70>"
      ]
     },
     "execution_count": 75,
     "metadata": {},
     "output_type": "execute_result"
    },
    {
     "data": {
      "image/png": "[encoded data removed]",
      "text/plain": [
       "<Figure size 432x288 with 1 Axes>"
      ]
     },
     "metadata": {
      "needs_background": "light"
     },
     "output_type": "display_data"
    }
   ],
   "source": [
    "plt.scatter(np.arange(1500), row_variance[most_variable_rows])"
   ]
  },
  {
   "cell_type": "code",
   "execution_count": 76,
   "id": "9bfb553b",
   "metadata": {},
   "outputs": [
    {
     "data": {
      "text/plain": [
       "[<matplotlib.lines.Line2D at 0x2e6c99bb100>]"
      ]
     },
     "execution_count": 76,
     "metadata": {},
     "output_type": "execute_result"
    },
    {
     "data": {
      "image/png": "[encoded data removed]",
      "text/plain": [
       "<Figure size 432x288 with 1 Axes>"
      ]
     },
     "metadata": {
      "needs_background": "light"
     },
     "output_type": "display_data"
    }
   ],
   "source": [
    "plt.plot(row_variance)"
   ]
  },
  {
   "cell_type": "code",
   "execution_count": 82,
   "id": "c49a5287",
   "metadata": {},
   "outputs": [
    {
     "data": {
      "text/plain": [
       "[<matplotlib.lines.Line2D at 0x2e6ce400670>]"
      ]
     },
     "execution_count": 82,
     "metadata": {},
     "output_type": "execute_result"
    },
    {
     "data": {
      "image/png": "[encoded data removed]",
      "text/plain": [
       "<Figure size 432x288 with 1 Axes>"
      ]
     },
     "metadata": {
      "needs_background": "light"
     },
     "output_type": "display_data"
    }
   ],
   "source": [
    "sorted_row_variance = sorted(row_variance, reverse=True)\n",
    "plt.plot(sorted_row_variance)"
   ]
  },
  {
   "cell_type": "markdown",
   "id": "e9e5dbaa",
   "metadata": {},
   "source": [
    "# Exercise\n",
    "with genes datasets"
   ]
  },
  {
   "cell_type": "code",
   "execution_count": 83,
   "id": "5c1ca728",
   "metadata": {},
   "outputs": [],
   "source": [
    "lib_size = np.sum(expr, axis=0)"
   ]
  },
  {
   "cell_type": "code",
   "execution_count": 85,
   "id": "fcf4b067",
   "metadata": {},
   "outputs": [
    {
     "name": "stdout",
     "output_type": "stream",
     "text": [
      "(20500, 375)\n",
      "(375,)\n",
      "(1, 375)\n"
     ]
    }
   ],
   "source": [
    "print(expr.shape)\n",
    "print(lib_size.shape)\n",
    "print(lib_size[np.newaxis, :].shape)"
   ]
  },
  {
   "cell_type": "markdown",
   "id": "eb9a1d32",
   "metadata": {},
   "source": [
    "`numpy` is doing implicitly broadcasting with `np.newaxis`."
   ]
  },
  {
   "cell_type": "code",
   "execution_count": 88,
   "id": "98beb5ee",
   "metadata": {},
   "outputs": [
    {
     "data": {
      "text/plain": [
       "False"
      ]
     },
     "execution_count": 88,
     "metadata": {},
     "output_type": "execute_result"
    }
   ],
   "source": [
    "np.all([True, True, False])"
   ]
  },
  {
   "cell_type": "code",
   "execution_count": 89,
   "id": "3758f7eb",
   "metadata": {},
   "outputs": [
    {
     "data": {
      "text/plain": [
       "True"
      ]
     },
     "execution_count": 89,
     "metadata": {},
     "output_type": "execute_result"
    }
   ],
   "source": [
    "np.all([True, True, True])"
   ]
  },
  {
   "cell_type": "markdown",
   "id": "9ac86ed6",
   "metadata": {},
   "source": [
    "Is dividing by `lib_size` equals to dividing by `lib_size[np.newaxis, :]`?"
   ]
  },
  {
   "cell_type": "code",
   "execution_count": 90,
   "id": "ec644416",
   "metadata": {},
   "outputs": [
    {
     "data": {
      "text/plain": [
       "True"
      ]
     },
     "execution_count": 90,
     "metadata": {},
     "output_type": "execute_result"
    }
   ],
   "source": [
    "np.all(expr / lib_size ==\n",
    "       expr / lib_size[np.newaxis, :])"
   ]
  },
  {
   "cell_type": "code",
   "execution_count": 91,
   "id": "5f6cb2d3",
   "metadata": {},
   "outputs": [],
   "source": [
    "expr_lib = expr / lib_size"
   ]
  },
  {
   "cell_type": "markdown",
   "id": "52e55bfe",
   "metadata": {},
   "source": [
    "We multiply by $10^6$ in order to keep the number on a readable scale.m"
   ]
  },
  {
   "cell_type": "code",
   "execution_count": 93,
   "id": "2ee56586",
   "metadata": {},
   "outputs": [],
   "source": [
    "expr_lib *= 1e6"
   ]
  },
  {
   "cell_type": "markdown",
   "id": "baf573d0",
   "metadata": {},
   "source": [
    "Finally, we must normalize by the gene length (in kb) to produce a measure of expression called Reads Per Kilobase per Million reads (RPKM). We start by loading the gene lengths in *bases*. (1 kilobase = 1,000 bases.)"
   ]
  },
  {
   "cell_type": "code",
   "execution_count": 94,
   "id": "a5499bc3",
   "metadata": {},
   "outputs": [
    {
     "name": "stdout",
     "output_type": "stream",
     "text": [
      "(20500,)\n"
     ]
    }
   ],
   "source": [
    "gene_len = np.load('gene-lens.npy')\n",
    "print(gene_len.shape)"
   ]
  },
  {
   "cell_type": "markdown",
   "id": "fb2b7cb3",
   "metadata": {},
   "source": [
    "# Exercise\n",
    "broadcast `expr_lib`and `gene_len` together to produce RPKM\n",
    "\n",
    "Reminder:\n",
    "\n",
    "$RPKM = \\frac{C}{N \\times 10^-6 \\times L \\times 10^-3} = \\frac{10 ^\\circ C}{NL}$\n",
    "\n",
    "where $C$ is the raw counts, $N$ is the library size (in reads) and $L$ is the gene length (in bases.)"
   ]
  },
  {
   "cell_type": "code",
   "execution_count": 97,
   "id": "bd6830ce",
   "metadata": {},
   "outputs": [],
   "source": [
    "# my code"
   ]
  },
  {
   "cell_type": "code",
   "execution_count": 105,
   "id": "fedcdc39",
   "metadata": {},
   "outputs": [],
   "source": [
    "rpkm = expr_lib / gene_len.reshape(-1, 1) * 1e3"
   ]
  },
  {
   "cell_type": "code",
   "execution_count": 106,
   "id": "0c502a9c",
   "metadata": {},
   "outputs": [
    {
     "data": {
      "text/plain": [
       "(20500, 375)"
      ]
     },
     "execution_count": 106,
     "metadata": {},
     "output_type": "execute_result"
    }
   ],
   "source": [
    "rpkm.shape"
   ]
  },
  {
   "cell_type": "code",
   "execution_count": 96,
   "id": "3f9424ca",
   "metadata": {},
   "outputs": [],
   "source": [
    "# answer"
   ]
  },
  {
   "cell_type": "code",
   "execution_count": 98,
   "id": "b506c7e8",
   "metadata": {},
   "outputs": [
    {
     "data": {
      "text/plain": [
       "(20500,)"
      ]
     },
     "execution_count": 98,
     "metadata": {},
     "output_type": "execute_result"
    }
   ],
   "source": [
    "gene_len.shape"
   ]
  },
  {
   "cell_type": "code",
   "execution_count": 99,
   "id": "a21d50fa",
   "metadata": {},
   "outputs": [
    {
     "data": {
      "text/plain": [
       "(20500, 1)"
      ]
     },
     "execution_count": 99,
     "metadata": {},
     "output_type": "execute_result"
    }
   ],
   "source": [
    "gene_len[:, np.newaxis].shape"
   ]
  },
  {
   "cell_type": "code",
   "execution_count": 100,
   "id": "f06a821d",
   "metadata": {},
   "outputs": [
    {
     "data": {
      "text/plain": [
       "(20500, 375)"
      ]
     },
     "execution_count": 100,
     "metadata": {},
     "output_type": "execute_result"
    }
   ],
   "source": [
    "expr.shape"
   ]
  },
  {
   "cell_type": "markdown",
   "id": "b4362837",
   "metadata": {},
   "source": [
    "You can see that these two things can be broadcasted."
   ]
  },
  {
   "cell_type": "code",
   "execution_count": 107,
   "id": "e6508528",
   "metadata": {},
   "outputs": [],
   "source": [
    "rpkm = expr_lib / gene_len[:, np.newaxis] * 1e3"
   ]
  },
  {
   "cell_type": "code",
   "execution_count": 108,
   "id": "ddf494a5",
   "metadata": {},
   "outputs": [
    {
     "data": {
      "text/plain": [
       "(20500, 375)"
      ]
     },
     "execution_count": 108,
     "metadata": {},
     "output_type": "execute_result"
    }
   ],
   "source": [
    "rpkm.shape"
   ]
  },
  {
   "cell_type": "markdown",
   "id": "b44035ef",
   "metadata": {},
   "source": [
    "In order to visualize our handywork, we customize a function."
   ]
  },
  {
   "cell_type": "code",
   "execution_count": 121,
   "id": "9d4ceec6",
   "metadata": {},
   "outputs": [],
   "source": [
    "from matplotlib import pyplot as plt\n",
    "from scipy import stats\n",
    "\n",
    "def plot_col_density(data, xlim=None, *args, **kwargs):\n",
    "    # Use gaussian smoothing to estimate the density\n",
    "    density_per_col = [stats.kde.gaussian_kde(col) for col in data.T]\n",
    "    if xlim is not None:\n",
    "        m, M = xlim\n",
    "    else:\n",
    "        m, M = np.min(data), np.max(data)\n",
    "    x = np.linspace(m, M, 100)\n",
    "\n",
    "    fig, ax = plt.subplots()\n",
    "    for density in density_per_col:\n",
    "        ax.plot(x, density(x), *args, **kwargs)\n",
    "    ax.set_xlabel('log-counts')\n",
    "    ax.set_ylabel('frequency')\n",
    "    if xlim is not None:\n",
    "        ax.set_xlim(xlim)\n",
    "    plt.show()"
   ]
  },
  {
   "cell_type": "code",
   "execution_count": 122,
   "id": "7a818b0d",
   "metadata": {},
   "outputs": [],
   "source": [
    "%config InlinBackend.figure_format = 'retina'"
   ]
  },
  {
   "cell_type": "markdown",
   "id": "f4c45933",
   "metadata": {},
   "source": [
    "```\n",
    ">>> print(density_per_col[:5])\n",
    "[<scipy.stats.kde.gaussian_kde object at 0x000002E6DA61A5E0>, <scipy.stats.kde.gaussian_kde object at 0x000002E6DA5F71C0>, <scipy.stats.kde.gaussian_kde object at 0x000002E6DA5F7340>, <scipy.stats.kde.gaussian_kde object at 0x000002E6DAF8B040>, <scipy.stats.kde.gaussian_kde object at 0x000002E6DAF8B370>]\n",
    "```"
   ]
  },
  {
   "cell_type": "code",
   "execution_count": 123,
   "id": "ad30dc4d",
   "metadata": {},
   "outputs": [
    {
     "data": {
      "image/png": "[encoded data removed]",
      "text/plain": [
       "<Figure size 432x288 with 1 Axes>"
      ]
     },
     "metadata": {
      "needs_background": "light"
     },
     "output_type": "display_data"
    }
   ],
   "source": [
    "plot_col_density(np.log(expr+1))"
   ]
  },
  {
   "cell_type": "code",
   "execution_count": 124,
   "id": "5512d62b",
   "metadata": {},
   "outputs": [
    {
     "data": {
      "image/png": "[encoded data removed]",
      "text/plain": [
       "<Figure size 432x288 with 1 Axes>"
      ]
     },
     "metadata": {
      "needs_background": "light"
     },
     "output_type": "display_data"
    }
   ],
   "source": [
    "plot_col_density(np.log(rpkm+1), xlim=(0,6))"
   ]
  },
  {
   "cell_type": "markdown",
   "id": "603e0046",
   "metadata": {},
   "source": [
    "# Exercise: 3D Broadcasting\n",
    "\n",
    "Below, using broadcasting, produce the array containing the sum of every element in `x` with every element in `y`. That is, produce an array `z` such that `z[i, j, k]` contains either the sum of `y[i]` and `x[j, k]` OR the sum of `x[i, j]` and `y[k]`."
   ]
  },
  {
   "cell_type": "code",
   "execution_count": 125,
   "id": "c77e7157",
   "metadata": {},
   "outputs": [],
   "source": [
    "x = np.random.random(size=(3, 5))\n",
    "y = np.random.randint(10, size=8)"
   ]
  },
  {
   "cell_type": "code",
   "execution_count": 126,
   "id": "2f1502bb",
   "metadata": {},
   "outputs": [
    {
     "data": {
      "text/plain": [
       "(3, 5)"
      ]
     },
     "execution_count": 126,
     "metadata": {},
     "output_type": "execute_result"
    }
   ],
   "source": [
    "x.shape"
   ]
  },
  {
   "cell_type": "code",
   "execution_count": 127,
   "id": "309dd541",
   "metadata": {},
   "outputs": [
    {
     "data": {
      "text/plain": [
       "(8,)"
      ]
     },
     "execution_count": 127,
     "metadata": {},
     "output_type": "execute_result"
    }
   ],
   "source": [
    "y.shape"
   ]
  },
  {
   "cell_type": "code",
   "execution_count": 130,
   "id": "1de1268f",
   "metadata": {},
   "outputs": [],
   "source": [
    "# my code"
   ]
  },
  {
   "cell_type": "code",
   "execution_count": 129,
   "id": "b4841e33",
   "metadata": {},
   "outputs": [
    {
     "data": {
      "text/plain": [
       "array([[[8.1039564 , 8.75588694, 8.32059277, 8.58251739, 8.88778609],\n",
       "        [6.1039564 , 6.75588694, 6.32059277, 6.58251739, 6.88778609],\n",
       "        [7.1039564 , 7.75588694, 7.32059277, 7.58251739, 7.88778609],\n",
       "        [7.1039564 , 7.75588694, 7.32059277, 7.58251739, 7.88778609],\n",
       "        [0.1039564 , 0.75588694, 0.32059277, 0.58251739, 0.88778609],\n",
       "        [7.1039564 , 7.75588694, 7.32059277, 7.58251739, 7.88778609],\n",
       "        [4.1039564 , 4.75588694, 4.32059277, 4.58251739, 4.88778609],\n",
       "        [5.1039564 , 5.75588694, 5.32059277, 5.58251739, 5.88778609]],\n",
       "\n",
       "       [[8.47746091, 8.04850797, 8.59669034, 8.07695216, 8.70053821],\n",
       "        [6.47746091, 6.04850797, 6.59669034, 6.07695216, 6.70053821],\n",
       "        [7.47746091, 7.04850797, 7.59669034, 7.07695216, 7.70053821],\n",
       "        [7.47746091, 7.04850797, 7.59669034, 7.07695216, 7.70053821],\n",
       "        [0.47746091, 0.04850797, 0.59669034, 0.07695216, 0.70053821],\n",
       "        [7.47746091, 7.04850797, 7.59669034, 7.07695216, 7.70053821],\n",
       "        [4.47746091, 4.04850797, 4.59669034, 4.07695216, 4.70053821],\n",
       "        [5.47746091, 5.04850797, 5.59669034, 5.07695216, 5.70053821]],\n",
       "\n",
       "       [[8.20226797, 8.04856718, 8.36311541, 8.06744163, 8.77364289],\n",
       "        [6.20226797, 6.04856718, 6.36311541, 6.06744163, 6.77364289],\n",
       "        [7.20226797, 7.04856718, 7.36311541, 7.06744163, 7.77364289],\n",
       "        [7.20226797, 7.04856718, 7.36311541, 7.06744163, 7.77364289],\n",
       "        [0.20226797, 0.04856718, 0.36311541, 0.06744163, 0.77364289],\n",
       "        [7.20226797, 7.04856718, 7.36311541, 7.06744163, 7.77364289],\n",
       "        [4.20226797, 4.04856718, 4.36311541, 4.06744163, 4.77364289],\n",
       "        [5.20226797, 5.04856718, 5.36311541, 5.06744163, 5.77364289]]])"
      ]
     },
     "execution_count": 129,
     "metadata": {},
     "output_type": "execute_result"
    }
   ],
   "source": [
    "x[:, np.newaxis, :] + y[np.newaxis, :, np.newaxis]"
   ]
  },
  {
   "cell_type": "code",
   "execution_count": 135,
   "id": "dfc8f192",
   "metadata": {},
   "outputs": [],
   "source": [
    "# answer"
   ]
  },
  {
   "cell_type": "code",
   "execution_count": 136,
   "id": "4c4d1ac9",
   "metadata": {},
   "outputs": [],
   "source": [
    "z = x + y[:, np.newaxis, np.newaxis]"
   ]
  },
  {
   "cell_type": "code",
   "execution_count": 137,
   "id": "21a01f37",
   "metadata": {},
   "outputs": [
    {
     "data": {
      "text/plain": [
       "(8, 3, 5)"
      ]
     },
     "execution_count": 137,
     "metadata": {},
     "output_type": "execute_result"
    }
   ],
   "source": [
    "z.shape"
   ]
  },
  {
   "cell_type": "code",
   "execution_count": 138,
   "id": "d1f63554",
   "metadata": {},
   "outputs": [],
   "source": [
    "z = x[:, :, np.newaxis] + y"
   ]
  },
  {
   "cell_type": "code",
   "execution_count": 139,
   "id": "3957d48e",
   "metadata": {},
   "outputs": [],
   "source": [
    "z = x[..., np.newaxis] + y"
   ]
  },
  {
   "cell_type": "code",
   "execution_count": 140,
   "id": "d3f12938",
   "metadata": {},
   "outputs": [
    {
     "data": {
      "text/plain": [
       "(3, 5, 8)"
      ]
     },
     "execution_count": 140,
     "metadata": {},
     "output_type": "execute_result"
    }
   ],
   "source": [
    "z.shape"
   ]
  },
  {
   "cell_type": "code",
   "execution_count": 142,
   "id": "aaf9c7f6",
   "metadata": {},
   "outputs": [],
   "source": [
    "z = x[..., np.newaxis] + y[np.newaxis, np.newaxis, :] # very explicit"
   ]
  },
  {
   "cell_type": "code",
   "execution_count": 143,
   "id": "31717c33",
   "metadata": {},
   "outputs": [
    {
     "data": {
      "text/plain": [
       "(3, 5, 8)"
      ]
     },
     "execution_count": 143,
     "metadata": {},
     "output_type": "execute_result"
    }
   ],
   "source": [
    "z.shape"
   ]
  },
  {
   "cell_type": "markdown",
   "id": "38b7232e",
   "metadata": {},
   "source": [
    "# Exercise: ndarray attributes"
   ]
  },
  {
   "cell_type": "code",
   "execution_count": 157,
   "id": "9bf1d469",
   "metadata": {},
   "outputs": [],
   "source": [
    "x = np.random.random((3, 2)).astype(np.float32)"
   ]
  },
  {
   "cell_type": "markdown",
   "id": "04a65f82",
   "metadata": {},
   "source": [
    "Try to answer these without looking at `x`. Then, try them out with the `print_info` function.\n",
    "\n",
    "* What is the shape of `x`?\n",
    "* What are the strides of `x`?\n",
    "* Is `x` `C-CONTIGUOUS`, `F-CONTIGUOUS`, or neither?\n",
    "\n",
    "Now let `y = repeat(x, 4)`. What is its shape? What are its strides? Is it contiguous?"
   ]
  },
  {
   "cell_type": "code",
   "execution_count": 158,
   "id": "fcb01830",
   "metadata": {},
   "outputs": [],
   "source": [
    "def repeat(arr, n):\n",
    "    return np.lib.stride_tricks.as_strided(arr,\n",
    "                                           shape=(n,) + arr.shape,\n",
    "                                           strides=(0,) + arr.strides)"
   ]
  },
  {
   "cell_type": "code",
   "execution_count": 159,
   "id": "e2e8b9ee",
   "metadata": {},
   "outputs": [],
   "source": [
    "# C-CONTIGUOUS: NumPy uses C-ordering by default."
   ]
  },
  {
   "cell_type": "code",
   "execution_count": 160,
   "id": "80cbb785",
   "metadata": {},
   "outputs": [
    {
     "data": {
      "text/plain": [
       "(3, 2)"
      ]
     },
     "execution_count": 160,
     "metadata": {},
     "output_type": "execute_result"
    }
   ],
   "source": [
    "x.shape"
   ]
  },
  {
   "cell_type": "code",
   "execution_count": 161,
   "id": "9a934e34",
   "metadata": {},
   "outputs": [
    {
     "data": {
      "text/plain": [
       "(8, 4)"
      ]
     },
     "execution_count": 161,
     "metadata": {},
     "output_type": "execute_result"
    }
   ],
   "source": [
    "x.strides"
   ]
  },
  {
   "cell_type": "code",
   "execution_count": 162,
   "id": "63970402",
   "metadata": {},
   "outputs": [
    {
     "data": {
      "text/plain": [
       "  C_CONTIGUOUS : True\n",
       "  F_CONTIGUOUS : False\n",
       "  OWNDATA : True\n",
       "  WRITEABLE : True\n",
       "  ALIGNED : True\n",
       "  WRITEBACKIFCOPY : False\n",
       "  UPDATEIFCOPY : False"
      ]
     },
     "execution_count": 162,
     "metadata": {},
     "output_type": "execute_result"
    }
   ],
   "source": [
    "x.flags"
   ]
  },
  {
   "cell_type": "code",
   "execution_count": 163,
   "id": "6215effe",
   "metadata": {},
   "outputs": [],
   "source": [
    "y = repeat(x, 4)"
   ]
  },
  {
   "cell_type": "code",
   "execution_count": 164,
   "id": "53dcb3b7",
   "metadata": {},
   "outputs": [
    {
     "name": "stdout",
     "output_type": "stream",
     "text": [
      "number of elements: 24\n",
      "number of dimensions: 3\n",
      "shape: (4, 3, 2)\n",
      "data type: float32\n",
      "strides: (0, 8, 4)\n",
      "flags:\n",
      "  C_CONTIGUOUS : False\n",
      "  F_CONTIGUOUS : False\n",
      "  OWNDATA : False\n",
      "  WRITEABLE : True\n",
      "  ALIGNED : True\n",
      "  WRITEBACKIFCOPY : False\n",
      "  UPDATEIFCOPY : False\n",
      "\n"
     ]
    }
   ],
   "source": [
    "print_info(y)"
   ]
  },
  {
   "cell_type": "code",
   "execution_count": 165,
   "id": "a3b6aa9a",
   "metadata": {},
   "outputs": [],
   "source": [
    "# In general, when you use stride tricks, you would end up with the none contiguous array."
   ]
  },
  {
   "cell_type": "markdown",
   "id": "fe3d3c25",
   "metadata": {},
   "source": [
    "# Exercise: `np.lib.stride_tricks.as_strided`"
   ]
  },
  {
   "cell_type": "markdown",
   "id": "ce3b5e18",
   "metadata": {},
   "source": [
    "Use `as_strided` to produce a sliding-window view of a 1D array."
   ]
  },
  {
   "cell_type": "code",
   "execution_count": 166,
   "id": "fdc38eca",
   "metadata": {},
   "outputs": [],
   "source": [
    "def sliding_window(arr, size=2):\n",
    "    \"\"\"Produce an array of sliding window views of `arr`\n",
    "    \n",
    "    Parameters\n",
    "    ----------\n",
    "    arr : 1D array, shape (N,)\n",
    "        The input array.\n",
    "    size : int, optional\n",
    "        The size of the sliding window.\n",
    "        \n",
    "    Returns\n",
    "    -------\n",
    "    arr_slide : 2D array, shape (N - size + 1, size)\n",
    "        The sliding windows of size `size` of `arr`.\n",
    "        \n",
    "    Examples\n",
    "    --------\n",
    "    >>> a = np.array([0, 1, 2, 3])\n",
    "    >>> sliding_window(a, 2)\n",
    "    array([[0, 1],\n",
    "           [1, 2],\n",
    "           [2, 3]])\n",
    "    \"\"\"\n",
    "    stride = arr.strides[0]\n",
    "    n_windows = arr.size - size + 1\n",
    "    return np.lib.stride_tricks.as_strided(arr,\n",
    "                                           shape=(n_windows, size),\n",
    "                                           strides=(stride, stride))"
   ]
  },
  {
   "cell_type": "code",
   "execution_count": 167,
   "id": "7b265e86",
   "metadata": {},
   "outputs": [
    {
     "data": {
      "text/plain": [
       "array([[0, 1, 2],\n",
       "       [1, 2, 3],\n",
       "       [2, 3, 4],\n",
       "       [3, 4, 5],\n",
       "       [4, 5, 6],\n",
       "       [5, 6, 7]])"
      ]
     },
     "execution_count": 167,
     "metadata": {},
     "output_type": "execute_result"
    }
   ],
   "source": [
    "# test your code here\n",
    "\n",
    "sliding_window(np.arange(8), 3)"
   ]
  },
  {
   "cell_type": "code",
   "execution_count": 168,
   "id": "3f32bb8b",
   "metadata": {},
   "outputs": [
    {
     "data": {
      "text/plain": [
       "array([[0, 1],\n",
       "       [1, 2],\n",
       "       [2, 3],\n",
       "       [3, 4],\n",
       "       [4, 5],\n",
       "       [5, 6],\n",
       "       [6, 7]])"
      ]
     },
     "execution_count": 168,
     "metadata": {},
     "output_type": "execute_result"
    }
   ],
   "source": [
    "sliding_window(np.arange(8), 2)"
   ]
  },
  {
   "cell_type": "markdown",
   "id": "05f15093",
   "metadata": {},
   "source": [
    "# Exercise\n",
    "\n",
    "Use `sliding_window` to implement mean filtering, in which every value in an array is replaced by the mean of it and its neighbors. This is a basic operation in signal processing - *the simplest convolutions*.\n",
    "\n",
    "This is the simple tricks to reduce the noise."
   ]
  },
  {
   "cell_type": "code",
   "execution_count": 169,
   "id": "bb865a54",
   "metadata": {},
   "outputs": [],
   "source": [
    "def mean_filter(signal, window_size=3):\n",
    "    \"\"\"Apply a mean filter to the input with the desired window size.\n",
    "    \n",
    "    Parameters\n",
    "    ----------\n",
    "    signal : 1D array, shape (M,)\n",
    "        The input signal.\n",
    "    window_size : int, optional\n",
    "        The size of the window along which to compute the mean.\n",
    "        \n",
    "    Returns\n",
    "    -------\n",
    "    filtered : 1D array, shape (M - window_size + 1,)\n",
    "        The filtered signal.\n",
    "    \"\"\"\n",
    "    signal_sliding = sliding_window(signal, window_size)\n",
    "    filtered = np.mean(signal_sliding, axis=1)\n",
    "    return filtered"
   ]
  },
  {
   "cell_type": "markdown",
   "id": "ae4b9536",
   "metadata": {},
   "source": [
    "To test your function, we will use the example of a *difference filter*, which finds the location of changes in a signal using convolution. When the signal is perfectly noiseless, it works great:"
   ]
  },
  {
   "cell_type": "code",
   "execution_count": 171,
   "id": "c8853918",
   "metadata": {},
   "outputs": [],
   "source": [
    "signal = np.zeros(100, np.float_)\n",
    "signal[30:60] = 1\n",
    "\n",
    "diff = np.array([1, 0, -1])\n",
    "from scipy import ndimage as ndi\n",
    "dsignal = ndi.convolve(signal, diff)"
   ]
  },
  {
   "cell_type": "code",
   "execution_count": 172,
   "id": "39453f16",
   "metadata": {},
   "outputs": [
    {
     "data": {
      "image/png": "[encoded data removed]",
      "text/plain": [
       "<Figure size 432x288 with 2 Axes>"
      ]
     },
     "metadata": {
      "needs_background": "light"
     },
     "output_type": "display_data"
    }
   ],
   "source": [
    "fig, ax = plt.subplots(1, 2)\n",
    "ax[0].plot(signal)\n",
    "ax[0].set_title('signal')\n",
    "ax[1].plot(dsignal)\n",
    "ax[1].set_title('change')\n",
    "fig.tight_layout()"
   ]
  },
  {
   "cell_type": "markdown",
   "id": "3cdc8c79",
   "metadata": {},
   "source": [
    "The main problem with this kind of difference filter is very sensitive to noise. So if your signal is a little jittery, this would amplify the jitters."
   ]
  },
  {
   "cell_type": "code",
   "execution_count": 173,
   "id": "a0ea5d2a",
   "metadata": {},
   "outputs": [
    {
     "data": {
      "image/png": "[encoded data removed]",
      "text/plain": [
       "<Figure size 432x288 with 2 Axes>"
      ]
     },
     "metadata": {
      "needs_background": "light"
     },
     "output_type": "display_data"
    }
   ],
   "source": [
    "np.random.seed(0)\n",
    "signal_noisy = signal + np.random.normal(0, 0.3, size=signal.shape)\n",
    "dsignal_noisy = ndi.convolve(signal_noisy, diff)\n",
    "\n",
    "fig, ax = plt.subplots(1, 2)\n",
    "ax[0].plot(signal_noisy)\n",
    "ax[0].set_title('signal')\n",
    "ax[1].plot(dsignal_noisy)\n",
    "ax[1].set_title('change')\n",
    "fig.tight_layout()"
   ]
  },
  {
   "cell_type": "markdown",
   "id": "a6d9131d",
   "metadata": {},
   "source": [
    "Try mean filtering with difference window size to see whether the change signal becomes more apparent."
   ]
  },
  {
   "cell_type": "code",
   "execution_count": 187,
   "id": "63e8c6ed",
   "metadata": {},
   "outputs": [],
   "source": [
    "filtered_diff = ndi.convolve(mean_filter(signal_noisy, window_size=5), diff)"
   ]
  },
  {
   "cell_type": "code",
   "execution_count": 188,
   "id": "8d3c0e00",
   "metadata": {},
   "outputs": [
    {
     "data": {
      "image/png": "[encoded data removed]",
      "text/plain": [
       "<Figure size 432x288 with 2 Axes>"
      ]
     },
     "metadata": {
      "needs_background": "light"
     },
     "output_type": "display_data"
    }
   ],
   "source": [
    "fig, ax = plt.subplots(1, 2)\n",
    "ax[0].plot(dsignal_noisy)\n",
    "ax[0].set_title('original')\n",
    "ax[1].plot(filtered_diff)\n",
    "ax[1].set_title('filtered')\n",
    "fig.tight_layout()"
   ]
  },
  {
   "cell_type": "markdown",
   "id": "d5486851",
   "metadata": {},
   "source": [
    "# Exercise: padding"
   ]
  },
  {
   "cell_type": "markdown",
   "id": "f6599217",
   "metadata": {},
   "source": [
    "What is the shape of your mean-filtered signal?\n",
    "\n",
    "...\n",
    "\n",
    "Oops! We've shortened the signal, which means that our indices have changed: `signal_filtered[i]` does not correspond to the signal around `signal[i]`.\n",
    "\n",
    "Use `np.pad` to add some \"fake\" data around signal before filtering, so that the filtered result has the same shape as the input."
   ]
  },
  {
   "cell_type": "code",
   "execution_count": 191,
   "id": "b362347f",
   "metadata": {},
   "outputs": [
    {
     "name": "stdout",
     "output_type": "stream",
     "text": [
      "(100,)\n",
      "(100,)\n",
      "(96,)\n"
     ]
    }
   ],
   "source": [
    "print(signal_noisy.shape)\n",
    "print(dsignal_noisy.shape)\n",
    "print(filtered_diff.shape)"
   ]
  },
  {
   "cell_type": "code",
   "execution_count": 197,
   "id": "8c5de8e0",
   "metadata": {},
   "outputs": [],
   "source": [
    "def mean_filter_padded(signal, window_size=3):\n",
    "    pad_size = window_size // 2\n",
    "    signal_padded = np.pad(signal, pad_size, mode='reflect')\n",
    "    return mean_filter(signal_padded, window_size)"
   ]
  },
  {
   "cell_type": "code",
   "execution_count": 198,
   "id": "7eee8619",
   "metadata": {},
   "outputs": [],
   "source": [
    "filtered_diff_padded = ndi.convolve(mean_filter_padded(signal_noisy, window_size=5), diff)"
   ]
  },
  {
   "cell_type": "code",
   "execution_count": 199,
   "id": "5236a17b",
   "metadata": {},
   "outputs": [
    {
     "name": "stdout",
     "output_type": "stream",
     "text": [
      "(100,)\n",
      "(100,)\n",
      "(100,)\n"
     ]
    }
   ],
   "source": [
    "print(signal_noisy.shape)\n",
    "print(dsignal_noisy.shape)\n",
    "print(filtered_diff_padded.shape)"
   ]
  },
  {
   "cell_type": "markdown",
   "id": "6b7b999b",
   "metadata": {},
   "source": [
    "# Exercise: Gaussian filtering"
   ]
  },
  {
   "cell_type": "markdown",
   "id": "d927c580",
   "metadata": {},
   "source": [
    "It turns out that mean filtering is not the \"optimal\" way to recover your signal, assuming certain properties of the noise. For that, we use Gaussian filtering, which uses a weighted mean of the sliding window elements. The weights are given by the famous Gaussian bell-shaped distribution. For example, here are the weights for a window size of 17:"
   ]
  },
  {
   "cell_type": "code",
   "execution_count": 200,
   "id": "df6f5ee6",
   "metadata": {},
   "outputs": [
    {
     "data": {
      "text/plain": [
       "[<matplotlib.lines.Line2D at 0x2e6da92e0a0>]"
      ]
     },
     "execution_count": 200,
     "metadata": {},
     "output_type": "execute_result"
    },
    {
     "data": {
      "image/png": "[encoded data removed]",
      "text/plain": [
       "<Figure size 432x288 with 1 Axes>"
      ]
     },
     "metadata": {
      "needs_background": "light"
     },
     "output_type": "display_data"
    }
   ],
   "source": [
    "weight = np.exp(-(np.arange(-8, 9) / (8/3))**2)\n",
    "weight /= np.sum(weight)  ## ensure overall intensity of signal doesn't change\n",
    "fig, ax = plt.subplots()\n",
    "ax.plot(weight)"
   ]
  },
  {
   "cell_type": "code",
   "execution_count": 201,
   "id": "9319a7bc",
   "metadata": {},
   "outputs": [
    {
     "data": {
      "text/plain": [
       "17"
      ]
     },
     "execution_count": 201,
     "metadata": {},
     "output_type": "execute_result"
    }
   ],
   "source": [
    "weight.size"
   ]
  },
  {
   "cell_type": "code",
   "execution_count": 204,
   "id": "1fabe77f",
   "metadata": {},
   "outputs": [
    {
     "name": "stdout",
     "output_type": "stream",
     "text": [
      "(84, 17)\n",
      "(17,)\n"
     ]
    }
   ],
   "source": [
    "windows = sliding_window(signal_noisy, size=17)\n",
    "print(windows.shape)\n",
    "print(weight.shape)"
   ]
  },
  {
   "cell_type": "code",
   "execution_count": 205,
   "id": "52ffac3b",
   "metadata": {},
   "outputs": [],
   "source": [
    "# Are they compatible to braodcast?"
   ]
  },
  {
   "cell_type": "code",
   "execution_count": 207,
   "id": "8a7e5d8e",
   "metadata": {},
   "outputs": [],
   "source": [
    "weighted = windows * weight\n",
    "filtered_gaussian = np.sum(weighted, axis=1)"
   ]
  },
  {
   "cell_type": "code",
   "execution_count": 213,
   "id": "eef74a4f",
   "metadata": {},
   "outputs": [
    {
     "data": {
      "text/plain": [
       "[<matplotlib.lines.Line2D at 0x2e6db0a7f40>]"
      ]
     },
     "execution_count": 213,
     "metadata": {},
     "output_type": "execute_result"
    },
    {
     "data": {
      "image/png": "[encoded data removed]",
      "text/plain": [
       "<Figure size 432x288 with 1 Axes>"
      ]
     },
     "metadata": {
      "needs_background": "light"
     },
     "output_type": "display_data"
    }
   ],
   "source": [
    "fig, ax = plt.subplots()\n",
    "ax.plot(filtered_gaussian)"
   ]
  },
  {
   "cell_type": "code",
   "execution_count": 212,
   "id": "02ecf7e9",
   "metadata": {},
   "outputs": [],
   "source": [
    "diff_gaussian = ndi.convolve(filtered_gaussian, diff)"
   ]
  },
  {
   "cell_type": "code",
   "execution_count": 219,
   "id": "1e5cc5b1",
   "metadata": {},
   "outputs": [
    {
     "data": {
      "text/plain": [
       "<matplotlib.lines.Line2D at 0x2e6db030d30>"
      ]
     },
     "execution_count": 219,
     "metadata": {},
     "output_type": "execute_result"
    },
    {
     "data": {
      "image/png": "[encoded data removed]",
      "text/plain": [
       "<Figure size 432x288 with 1 Axes>"
      ]
     },
     "metadata": {
      "needs_background": "light"
     },
     "output_type": "display_data"
    }
   ],
   "source": [
    "fig, ax = plt.subplots()\n",
    "ax.plot(diff_gaussian)\n",
    "ax.axhline(y=0.2, c='red', linestyle=':')\n",
    "ax.axhline(y=-0.2, c='red', linestyle=':')"
   ]
  },
  {
   "cell_type": "markdown",
   "id": "b42d27d5",
   "metadata": {},
   "source": [
    "# Fancy indexing\n",
    "You can index arrays with slicing, but also with boolean arrays (including broadcasting!), integer arrays, and individual indices along multiple dimensions."
   ]
  },
  {
   "cell_type": "code",
   "execution_count": 224,
   "id": "16a6ab94",
   "metadata": {},
   "outputs": [
    {
     "name": "stdout",
     "output_type": "stream",
     "text": [
      "[[0 0 1 2]\n",
      " [1 1 0 0]\n",
      " [1 2 0 2]]\n",
      "[[ 0  0  5 99]\n",
      " [ 5  5  0  0]\n",
      " [ 5 99  0 99]]\n"
     ]
    }
   ],
   "source": [
    "values = np.array([0, 5, 99])\n",
    "selector = np.random.randint(0, 3, size=(3, 4))\n",
    "print(selector)\n",
    "print(values[selector]) "
   ]
  },
  {
   "cell_type": "code",
   "execution_count": 225,
   "id": "d8aaf503",
   "metadata": {},
   "outputs": [
    {
     "data": {
      "text/plain": [
       "array([99,  5,  0])"
      ]
     },
     "execution_count": 225,
     "metadata": {},
     "output_type": "execute_result"
    }
   ],
   "source": [
    "values[[2, 1, 0]]"
   ]
  },
  {
   "cell_type": "code",
   "execution_count": 226,
   "id": "75b8fc2c",
   "metadata": {},
   "outputs": [
    {
     "data": {
      "text/plain": [
       "array([ 5, 99, 99, 99,  0])"
      ]
     },
     "execution_count": 226,
     "metadata": {},
     "output_type": "execute_result"
    }
   ],
   "source": [
    "values[[1, 2, 2, 2, 0]]"
   ]
  },
  {
   "cell_type": "code",
   "execution_count": 227,
   "id": "eec45d7f",
   "metadata": {},
   "outputs": [
    {
     "data": {
      "text/plain": [
       "array([[ 5, 99, 99, 99,  0],\n",
       "       [ 5,  5,  5,  5,  5]])"
      ]
     },
     "execution_count": 227,
     "metadata": {},
     "output_type": "execute_result"
    }
   ],
   "source": [
    "values[np.array([[1, 2, 2, 2, 0], [1, 1, 1, 1, 1]])]"
   ]
  },
  {
   "cell_type": "code",
   "execution_count": 229,
   "id": "c6bcbd0c",
   "metadata": {},
   "outputs": [],
   "source": [
    "# It needs to be an array. It can't be just a list."
   ]
  },
  {
   "cell_type": "code",
   "execution_count": 230,
   "id": "4af23644",
   "metadata": {},
   "outputs": [
    {
     "name": "stdout",
     "output_type": "stream",
     "text": [
      "[[ 0  0  5 99]\n",
      " [ 5 99  0 99]]\n"
     ]
    }
   ],
   "source": [
    "relabeled = values[selector]\n",
    "has_large_cols = np.any(relabeled > 10, axis=1)\n",
    "print(relabeled[has_large_cols])"
   ]
  },
  {
   "cell_type": "code",
   "execution_count": 231,
   "id": "746f12af",
   "metadata": {},
   "outputs": [
    {
     "data": {
      "text/plain": [
       "array([ True, False,  True])"
      ]
     },
     "execution_count": 231,
     "metadata": {},
     "output_type": "execute_result"
    }
   ],
   "source": [
    "has_large_cols"
   ]
  },
  {
   "cell_type": "markdown",
   "id": "cc128a87",
   "metadata": {},
   "source": [
    "```python\n",
    "ndarray[list(row_indices), list(col_indices)]\n",
    "```"
   ]
  },
  {
   "cell_type": "code",
   "execution_count": null,
   "id": "e6326da5",
   "metadata": {},
   "outputs": [],
   "source": [
    "# Univariate indexing to Multivariate indexing, this called Fancy indexing."
   ]
  },
  {
   "cell_type": "markdown",
   "id": "caaf1afd",
   "metadata": {},
   "source": [
    "# Exercise"
   ]
  },
  {
   "cell_type": "markdown",
   "id": "5d168e5a",
   "metadata": {},
   "source": [
    "Use boolean indexing and broadcasting to select the columns of `relabeled` that do not contain 99."
   ]
  },
  {
   "cell_type": "code",
   "execution_count": 232,
   "id": "81ffdcb2",
   "metadata": {},
   "outputs": [],
   "source": [
    "# my code"
   ]
  },
  {
   "cell_type": "code",
   "execution_count": 237,
   "id": "bbd54a78",
   "metadata": {},
   "outputs": [
    {
     "name": "stdout",
     "output_type": "stream",
     "text": [
      "[[0 5]\n",
      " [5 0]\n",
      " [5 0]]\n"
     ]
    }
   ],
   "source": [
    "has_small_cols = np.all(relabeled < 10, axis=0)\n",
    "print(relabeled[:, has_small_cols])"
   ]
  },
  {
   "cell_type": "code",
   "execution_count": 238,
   "id": "1f0873d6",
   "metadata": {},
   "outputs": [],
   "source": [
    "# answer"
   ]
  },
  {
   "cell_type": "code",
   "execution_count": 239,
   "id": "905577a1",
   "metadata": {},
   "outputs": [
    {
     "data": {
      "text/plain": [
       "array([[0, 5],\n",
       "       [5, 0],\n",
       "       [5, 0]])"
      ]
     },
     "execution_count": 239,
     "metadata": {},
     "output_type": "execute_result"
    }
   ],
   "source": [
    "no99 = ~np.any(relabeled == 99, axis=0)\n",
    "relabeled[:, no99]"
   ]
  }
 ],
 "metadata": {
  "kernelspec": {
   "display_name": "Python 3 (ipykernel)",
   "language": "python",
   "name": "python3"
  },
  "language_info": {
   "codemirror_mode": {
    "name": "ipython",
    "version": 3
   },
   "file_extension": ".py",
   "mimetype": "text/x-python",
   "name": "python",
   "nbconvert_exporter": "python",
   "pygments_lexer": "ipython3",
   "version": "3.9.12"
  }
 },
 "nbformat": 4,
 "nbformat_minor": 5
}
