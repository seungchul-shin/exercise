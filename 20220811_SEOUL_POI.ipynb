{
 "cells": [
  {
   "cell_type": "code",
   "execution_count": 2,
   "id": "ef41afae",
   "metadata": {},
   "outputs": [],
   "source": [
    "import pandas as pd"
   ]
  },
  {
   "cell_type": "markdown",
   "id": "83e98e33",
   "metadata": {},
   "source": [
    "# Get POI Locations in Seoul"
   ]
  },
  {
   "cell_type": "markdown",
   "id": "25e0b228",
   "metadata": {},
   "source": [
    "## Hospitals"
   ]
  },
  {
   "cell_type": "code",
   "execution_count": 135,
   "id": "602ec3fb",
   "metadata": {
    "scrolled": false
   },
   "outputs": [
    {
     "data": {
      "text/html": [
       "<div>\n",
       "<style scoped>\n",
       "    .dataframe tbody tr th:only-of-type {\n",
       "        vertical-align: middle;\n",
       "    }\n",
       "\n",
       "    .dataframe tbody tr th {\n",
       "        vertical-align: top;\n",
       "    }\n",
       "\n",
       "    .dataframe thead th {\n",
       "        text-align: right;\n",
       "    }\n",
       "</style>\n",
       "<table border=\"1\" class=\"dataframe\">\n",
       "  <thead>\n",
       "    <tr style=\"text-align: right;\">\n",
       "      <th></th>\n",
       "      <th>기관ID</th>\n",
       "      <th>주소</th>\n",
       "      <th>병원분류</th>\n",
       "      <th>병원분류명</th>\n",
       "      <th>응급의료기관코드</th>\n",
       "    </tr>\n",
       "  </thead>\n",
       "  <tbody>\n",
       "    <tr>\n",
       "      <th>0</th>\n",
       "      <td>B1100027</td>\n",
       "      <td>서울특별시 강남구 봉은사로 612 (삼성동)</td>\n",
       "      <td>E</td>\n",
       "      <td>한방병원</td>\n",
       "      <td>G099</td>\n",
       "    </tr>\n",
       "    <tr>\n",
       "      <th>1</th>\n",
       "      <td>A1121157</td>\n",
       "      <td>서울특별시 강남구 선릉로 311 한티빌딩 3층 (역삼동)</td>\n",
       "      <td>C</td>\n",
       "      <td>의원</td>\n",
       "      <td>G099</td>\n",
       "    </tr>\n",
       "    <tr>\n",
       "      <th>2</th>\n",
       "      <td>A1102799</td>\n",
       "      <td>서울특별시 동작구 동작대로 89 602호 (사당동 골든시네마타워)</td>\n",
       "      <td>C</td>\n",
       "      <td>의원</td>\n",
       "      <td>G099</td>\n",
       "    </tr>\n",
       "    <tr>\n",
       "      <th>3</th>\n",
       "      <td>B1102501</td>\n",
       "      <td>서울특별시 강남구 학동로 421 205호 (청담동 원영빌딩)</td>\n",
       "      <td>G</td>\n",
       "      <td>한의원</td>\n",
       "      <td>G099</td>\n",
       "    </tr>\n",
       "    <tr>\n",
       "      <th>4</th>\n",
       "      <td>A1102454</td>\n",
       "      <td>서울특별시 강남구 선릉로64길 23</td>\n",
       "      <td>C</td>\n",
       "      <td>의원</td>\n",
       "      <td>G099</td>\n",
       "    </tr>\n",
       "  </tbody>\n",
       "</table>\n",
       "</div>"
      ],
      "text/plain": [
       "       기관ID                                    주소 병원분류 병원분류명 응급의료기관코드\n",
       "0  B1100027              서울특별시 강남구 봉은사로 612 (삼성동)    E  한방병원     G099\n",
       "1  A1121157       서울특별시 강남구 선릉로 311 한티빌딩 3층 (역삼동)    C    의원     G099\n",
       "2  A1102799  서울특별시 동작구 동작대로 89 602호 (사당동 골든시네마타워)    C    의원     G099\n",
       "3  B1102501     서울특별시 강남구 학동로 421 205호 (청담동 원영빌딩)    G   한의원     G099\n",
       "4  A1102454                   서울특별시 강남구 선릉로64길 23    C    의원     G099"
      ]
     },
     "execution_count": 135,
     "metadata": {},
     "output_type": "execute_result"
    }
   ],
   "source": [
    "df=pd.read_csv(\"../data/서울시 병의원 위치 정보.csv\", encoding=\"cp949\")\n",
    "df.iloc[:5, :5]"
   ]
  },
  {
   "cell_type": "code",
   "execution_count": 136,
   "id": "8c39f11f",
   "metadata": {},
   "outputs": [
    {
     "data": {
      "text/plain": [
       "Index(['기관ID', '주소', '병원분류', '병원분류명', '응급의료기관코드', '응급의료기관코드명', '응급실운영여부(1/2)',\n",
       "       '비고', '기관설명상세', '간이약도', '기관명', '대표전화1', '응급실전화', '진료시간(월요일)C',\n",
       "       '진료시간(화요일)C', '진료시간(수요일)C', '진료시간(목요일)C', '진료시간(금요일)C', '진료시간(토요일)C',\n",
       "       '진료시간(일요일)C', '진료시간(공휴일)C', '진료시간(월요일)S', '진료시간(화요일)S', '진료시간(수요일)S',\n",
       "       '진료시간(목요일)S', '진료시간(금요일)S', '진료시간(토요일)S', '진료시간(일요일)S', '진료시간(공휴일)S',\n",
       "       '우편번호1', '우편번호2', '병원경도', '병원위도', '작업시간'],\n",
       "      dtype='object')"
      ]
     },
     "execution_count": 136,
     "metadata": {},
     "output_type": "execute_result"
    }
   ],
   "source": [
    "df.columns"
   ]
  },
  {
   "cell_type": "code",
   "execution_count": 137,
   "id": "b6324998",
   "metadata": {},
   "outputs": [
    {
     "data": {
      "text/html": [
       "<div>\n",
       "<style scoped>\n",
       "    .dataframe tbody tr th:only-of-type {\n",
       "        vertical-align: middle;\n",
       "    }\n",
       "\n",
       "    .dataframe tbody tr th {\n",
       "        vertical-align: top;\n",
       "    }\n",
       "\n",
       "    .dataframe thead th {\n",
       "        text-align: right;\n",
       "    }\n",
       "</style>\n",
       "<table border=\"1\" class=\"dataframe\">\n",
       "  <thead>\n",
       "    <tr style=\"text-align: right;\">\n",
       "      <th></th>\n",
       "      <th>병원분류명</th>\n",
       "      <th>응급실운영여부(1/2)</th>\n",
       "      <th>기관명</th>\n",
       "      <th>병원경도</th>\n",
       "      <th>병원위도</th>\n",
       "    </tr>\n",
       "  </thead>\n",
       "  <tbody>\n",
       "    <tr>\n",
       "      <th>143</th>\n",
       "      <td>종합병원</td>\n",
       "      <td>1</td>\n",
       "      <td>강동경희대학교의대병원</td>\n",
       "      <td>127.157522</td>\n",
       "      <td>37.553476</td>\n",
       "    </tr>\n",
       "    <tr>\n",
       "      <th>229</th>\n",
       "      <td>종합병원</td>\n",
       "      <td>1</td>\n",
       "      <td>강북삼성병원</td>\n",
       "      <td>126.967938</td>\n",
       "      <td>37.568498</td>\n",
       "    </tr>\n",
       "    <tr>\n",
       "      <th>433</th>\n",
       "      <td>종합병원</td>\n",
       "      <td>1</td>\n",
       "      <td>건국대학교병원</td>\n",
       "      <td>127.072123</td>\n",
       "      <td>37.540845</td>\n",
       "    </tr>\n",
       "    <tr>\n",
       "      <th>484</th>\n",
       "      <td>종합병원</td>\n",
       "      <td>1</td>\n",
       "      <td>경찰병원</td>\n",
       "      <td>127.123488</td>\n",
       "      <td>37.496413</td>\n",
       "    </tr>\n",
       "    <tr>\n",
       "      <th>552</th>\n",
       "      <td>종합병원</td>\n",
       "      <td>1</td>\n",
       "      <td>경희대학교병원</td>\n",
       "      <td>127.051832</td>\n",
       "      <td>37.593877</td>\n",
       "    </tr>\n",
       "  </tbody>\n",
       "</table>\n",
       "</div>"
      ],
      "text/plain": [
       "    병원분류명  응급실운영여부(1/2)          기관명        병원경도       병원위도\n",
       "143  종합병원             1  강동경희대학교의대병원  127.157522  37.553476\n",
       "229  종합병원             1       강북삼성병원  126.967938  37.568498\n",
       "433  종합병원             1      건국대학교병원  127.072123  37.540845\n",
       "484  종합병원             1         경찰병원  127.123488  37.496413\n",
       "552  종합병원             1      경희대학교병원  127.051832  37.593877"
      ]
     },
     "execution_count": 137,
     "metadata": {},
     "output_type": "execute_result"
    }
   ],
   "source": [
    "df1=df.loc[df['병원분류'] == 'A', ['병원분류명', '응급실운영여부(1/2)', '기관명', '병원경도', '병원위도']]\n",
    "df1.head()"
   ]
  },
  {
   "cell_type": "code",
   "execution_count": 138,
   "id": "6286228e",
   "metadata": {},
   "outputs": [
    {
     "data": {
      "text/html": [
       "<div>\n",
       "<style scoped>\n",
       "    .dataframe tbody tr th:only-of-type {\n",
       "        vertical-align: middle;\n",
       "    }\n",
       "\n",
       "    .dataframe tbody tr th {\n",
       "        vertical-align: top;\n",
       "    }\n",
       "\n",
       "    .dataframe thead th {\n",
       "        text-align: right;\n",
       "    }\n",
       "</style>\n",
       "<table border=\"1\" class=\"dataframe\">\n",
       "  <thead>\n",
       "    <tr style=\"text-align: right;\">\n",
       "      <th></th>\n",
       "      <th>기관명</th>\n",
       "      <th>병원경도</th>\n",
       "      <th>병원위도</th>\n",
       "    </tr>\n",
       "  </thead>\n",
       "  <tbody>\n",
       "    <tr>\n",
       "      <th>143</th>\n",
       "      <td>강동경희대학교의대병원</td>\n",
       "      <td>127.157522</td>\n",
       "      <td>37.553476</td>\n",
       "    </tr>\n",
       "    <tr>\n",
       "      <th>229</th>\n",
       "      <td>강북삼성병원</td>\n",
       "      <td>126.967938</td>\n",
       "      <td>37.568498</td>\n",
       "    </tr>\n",
       "    <tr>\n",
       "      <th>433</th>\n",
       "      <td>건국대학교병원</td>\n",
       "      <td>127.072123</td>\n",
       "      <td>37.540845</td>\n",
       "    </tr>\n",
       "    <tr>\n",
       "      <th>484</th>\n",
       "      <td>경찰병원</td>\n",
       "      <td>127.123488</td>\n",
       "      <td>37.496413</td>\n",
       "    </tr>\n",
       "    <tr>\n",
       "      <th>552</th>\n",
       "      <td>경희대학교병원</td>\n",
       "      <td>127.051832</td>\n",
       "      <td>37.593877</td>\n",
       "    </tr>\n",
       "  </tbody>\n",
       "</table>\n",
       "</div>"
      ],
      "text/plain": [
       "             기관명        병원경도       병원위도\n",
       "143  강동경희대학교의대병원  127.157522  37.553476\n",
       "229       강북삼성병원  126.967938  37.568498\n",
       "433      건국대학교병원  127.072123  37.540845\n",
       "484         경찰병원  127.123488  37.496413\n",
       "552      경희대학교병원  127.051832  37.593877"
      ]
     },
     "execution_count": 138,
     "metadata": {},
     "output_type": "execute_result"
    }
   ],
   "source": [
    "df1=df.loc[df['병원분류'] == 'A', ['기관명', '병원경도', '병원위도']]\n",
    "df1.head()"
   ]
  },
  {
   "cell_type": "code",
   "execution_count": 139,
   "id": "6fd739e5",
   "metadata": {},
   "outputs": [],
   "source": [
    "df1.to_csv(\"hospital_locations.csv\", encoding='utf-8', index=False)"
   ]
  },
  {
   "cell_type": "markdown",
   "id": "ac4bf9c7",
   "metadata": {},
   "source": [
    "## Logistics terminals"
   ]
  },
  {
   "cell_type": "code",
   "execution_count": 140,
   "id": "f00c7329",
   "metadata": {},
   "outputs": [
    {
     "data": {
      "text/html": [
       "<div>\n",
       "<style scoped>\n",
       "    .dataframe tbody tr th:only-of-type {\n",
       "        vertical-align: middle;\n",
       "    }\n",
       "\n",
       "    .dataframe tbody tr th {\n",
       "        vertical-align: top;\n",
       "    }\n",
       "\n",
       "    .dataframe thead th {\n",
       "        text-align: right;\n",
       "    }\n",
       "</style>\n",
       "<table border=\"1\" class=\"dataframe\">\n",
       "  <thead>\n",
       "    <tr style=\"text-align: right;\">\n",
       "      <th></th>\n",
       "      <th>물류터미널명</th>\n",
       "      <th>지역</th>\n",
       "      <th>규모</th>\n",
       "      <th>사업개시일</th>\n",
       "    </tr>\n",
       "  </thead>\n",
       "  <tbody>\n",
       "    <tr>\n",
       "      <th>0</th>\n",
       "      <td>NaN</td>\n",
       "      <td>NaN</td>\n",
       "      <td>NaN</td>\n",
       "      <td>NaN</td>\n",
       "    </tr>\n",
       "    <tr>\n",
       "      <th>1</th>\n",
       "      <td>동부물류터미널</td>\n",
       "      <td>서울특별시 동대문구 장안동 284-1 외4필지</td>\n",
       "      <td>19463.0</td>\n",
       "      <td>1975/08/10</td>\n",
       "    </tr>\n",
       "    <tr>\n",
       "      <th>2</th>\n",
       "      <td>서부트럭터미널</td>\n",
       "      <td>서울특별시 양천구 신정동 1315 외19필지</td>\n",
       "      <td>112111.0</td>\n",
       "      <td>1979/09/29</td>\n",
       "    </tr>\n",
       "    <tr>\n",
       "      <th>3</th>\n",
       "      <td>광주화물자동차터미널</td>\n",
       "      <td>광주광역시 북구 각화동 380 외2필지</td>\n",
       "      <td>35765.0</td>\n",
       "      <td>1983/03/04</td>\n",
       "    </tr>\n",
       "    <tr>\n",
       "      <th>4</th>\n",
       "      <td>진주화물터미널</td>\n",
       "      <td>경남 진주시 상대동 33-89 외1필지</td>\n",
       "      <td>21575.0</td>\n",
       "      <td>1987/01/31</td>\n",
       "    </tr>\n",
       "  </tbody>\n",
       "</table>\n",
       "</div>"
      ],
      "text/plain": [
       "       물류터미널명                         지역        규모       사업개시일\n",
       "0         NaN                        NaN       NaN         NaN\n",
       "1     동부물류터미널  서울특별시 동대문구 장안동 284-1 외4필지   19463.0  1975/08/10\n",
       "2     서부트럭터미널   서울특별시 양천구 신정동 1315 외19필지  112111.0  1979/09/29\n",
       "3  광주화물자동차터미널      광주광역시 북구 각화동 380 외2필지   35765.0  1983/03/04\n",
       "4     진주화물터미널      경남 진주시 상대동 33-89 외1필지   21575.0  1987/01/31"
      ]
     },
     "execution_count": 140,
     "metadata": {},
     "output_type": "execute_result"
    }
   ],
   "source": [
    "df=pd.read_excel(\"../data/물류터미널정보_220811.xls\")\n",
    "df.head()"
   ]
  },
  {
   "cell_type": "code",
   "execution_count": 141,
   "id": "9806db34",
   "metadata": {},
   "outputs": [
    {
     "data": {
      "text/plain": [
       "Index(['물류터미널명', '지역', '규모', '사업개시일'], dtype='object')"
      ]
     },
     "execution_count": 141,
     "metadata": {},
     "output_type": "execute_result"
    }
   ],
   "source": [
    "df.columns"
   ]
  },
  {
   "cell_type": "code",
   "execution_count": 142,
   "id": "588109ca",
   "metadata": {},
   "outputs": [],
   "source": [
    "df = df.iloc[1:, :]"
   ]
  },
  {
   "cell_type": "code",
   "execution_count": 144,
   "id": "5923efae",
   "metadata": {},
   "outputs": [
    {
     "data": {
      "text/html": [
       "<div>\n",
       "<style scoped>\n",
       "    .dataframe tbody tr th:only-of-type {\n",
       "        vertical-align: middle;\n",
       "    }\n",
       "\n",
       "    .dataframe tbody tr th {\n",
       "        vertical-align: top;\n",
       "    }\n",
       "\n",
       "    .dataframe thead th {\n",
       "        text-align: right;\n",
       "    }\n",
       "</style>\n",
       "<table border=\"1\" class=\"dataframe\">\n",
       "  <thead>\n",
       "    <tr style=\"text-align: right;\">\n",
       "      <th></th>\n",
       "      <th>물류터미널명</th>\n",
       "      <th>지역</th>\n",
       "      <th>규모</th>\n",
       "      <th>사업개시일</th>\n",
       "    </tr>\n",
       "  </thead>\n",
       "  <tbody>\n",
       "    <tr>\n",
       "      <th>1</th>\n",
       "      <td>동부물류터미널</td>\n",
       "      <td>서울특별시 동대문구 장안동 284-1 외4필지</td>\n",
       "      <td>19463.0</td>\n",
       "      <td>1975/08/10</td>\n",
       "    </tr>\n",
       "    <tr>\n",
       "      <th>2</th>\n",
       "      <td>서부트럭터미널</td>\n",
       "      <td>서울특별시 양천구 신정동 1315 외19필지</td>\n",
       "      <td>112111.0</td>\n",
       "      <td>1979/09/29</td>\n",
       "    </tr>\n",
       "    <tr>\n",
       "      <th>3</th>\n",
       "      <td>광주화물자동차터미널</td>\n",
       "      <td>광주광역시 북구 각화동 380 외2필지</td>\n",
       "      <td>35765.0</td>\n",
       "      <td>1983/03/04</td>\n",
       "    </tr>\n",
       "    <tr>\n",
       "      <th>4</th>\n",
       "      <td>진주화물터미널</td>\n",
       "      <td>경남 진주시 상대동 33-89 외1필지</td>\n",
       "      <td>21575.0</td>\n",
       "      <td>1987/01/31</td>\n",
       "    </tr>\n",
       "    <tr>\n",
       "      <th>5</th>\n",
       "      <td>청주화물터미널</td>\n",
       "      <td>충북 청주시 흥덕구 지동동 476 외13필지</td>\n",
       "      <td>19654.0</td>\n",
       "      <td>1989/07/08</td>\n",
       "    </tr>\n",
       "  </tbody>\n",
       "</table>\n",
       "</div>"
      ],
      "text/plain": [
       "       물류터미널명                         지역        규모       사업개시일\n",
       "1     동부물류터미널  서울특별시 동대문구 장안동 284-1 외4필지   19463.0  1975/08/10\n",
       "2     서부트럭터미널   서울특별시 양천구 신정동 1315 외19필지  112111.0  1979/09/29\n",
       "3  광주화물자동차터미널      광주광역시 북구 각화동 380 외2필지   35765.0  1983/03/04\n",
       "4     진주화물터미널      경남 진주시 상대동 33-89 외1필지   21575.0  1987/01/31\n",
       "5     청주화물터미널   충북 청주시 흥덕구 지동동 476 외13필지   19654.0  1989/07/08"
      ]
     },
     "execution_count": 144,
     "metadata": {},
     "output_type": "execute_result"
    }
   ],
   "source": [
    "df.head()"
   ]
  },
  {
   "cell_type": "code",
   "execution_count": 107,
   "id": "f81d9007",
   "metadata": {},
   "outputs": [
    {
     "name": "stdout",
     "output_type": "stream",
     "text": [
      "{'lat': '33.4621910539149', 'lng': '126.328972924341'}\n"
     ]
    }
   ],
   "source": [
    "import requests, json\n",
    "\n",
    "def get_location(address):\n",
    "  url = 'https://dapi.kakao.com/v2/local/search/address.json?query=' + address\n",
    "  # 'KaKaoAK '는 그대로 두시고 개인키만 지우고 입력해 주세요.\n",
    "  # ex) KakaoAK 6af8d4826f0e56c54bc794fa8a294\n",
    "  headers = {\"Authorization\": \"KakaoAK #RestAPI KEY#\"}\n",
    "  api_json = json.loads(str(requests.get(url,headers=headers).text))\n",
    "  address = api_json['documents'][0]['address']\n",
    "  crd = {\"lat\": str(address['y']), \"lng\": str(address['x'])}\n",
    "  address_name = address['address_name']\n",
    "\n",
    "  return crd\n",
    "\n",
    "crd = get_location(\"제주 애월읍\")\n",
    "print(crd)"
   ]
  },
  {
   "cell_type": "code",
   "execution_count": 108,
   "id": "0c1c78c2",
   "metadata": {},
   "outputs": [],
   "source": [
    "df = df[df['지역'].apply(lambda x: '서울특별시' in x)]"
   ]
  },
  {
   "cell_type": "code",
   "execution_count": 109,
   "id": "f9439f10",
   "metadata": {},
   "outputs": [
    {
     "data": {
      "text/html": [
       "<div>\n",
       "<style scoped>\n",
       "    .dataframe tbody tr th:only-of-type {\n",
       "        vertical-align: middle;\n",
       "    }\n",
       "\n",
       "    .dataframe tbody tr th {\n",
       "        vertical-align: top;\n",
       "    }\n",
       "\n",
       "    .dataframe thead th {\n",
       "        text-align: right;\n",
       "    }\n",
       "</style>\n",
       "<table border=\"1\" class=\"dataframe\">\n",
       "  <thead>\n",
       "    <tr style=\"text-align: right;\">\n",
       "      <th></th>\n",
       "      <th>물류터미널명</th>\n",
       "      <th>지역</th>\n",
       "      <th>규모</th>\n",
       "      <th>사업개시일</th>\n",
       "    </tr>\n",
       "  </thead>\n",
       "  <tbody>\n",
       "    <tr>\n",
       "      <th>1</th>\n",
       "      <td>동부물류터미널</td>\n",
       "      <td>서울특별시 동대문구 장안동 284-1 외4필지</td>\n",
       "      <td>19463.0</td>\n",
       "      <td>1975/08/10</td>\n",
       "    </tr>\n",
       "    <tr>\n",
       "      <th>2</th>\n",
       "      <td>서부트럭터미널</td>\n",
       "      <td>서울특별시 양천구 신정동 1315 외19필지</td>\n",
       "      <td>112111.0</td>\n",
       "      <td>1979/09/29</td>\n",
       "    </tr>\n",
       "    <tr>\n",
       "      <th>6</th>\n",
       "      <td>한국트럭터미널</td>\n",
       "      <td>서울특별시 서초구 양재동 226</td>\n",
       "      <td>96017.0</td>\n",
       "      <td>1990/03/31</td>\n",
       "    </tr>\n",
       "  </tbody>\n",
       "</table>\n",
       "</div>"
      ],
      "text/plain": [
       "    물류터미널명                         지역        규모       사업개시일\n",
       "1  동부물류터미널  서울특별시 동대문구 장안동 284-1 외4필지   19463.0  1975/08/10\n",
       "2  서부트럭터미널   서울특별시 양천구 신정동 1315 외19필지  112111.0  1979/09/29\n",
       "6  한국트럭터미널          서울특별시 서초구 양재동 226   96017.0  1990/03/31"
      ]
     },
     "execution_count": 109,
     "metadata": {},
     "output_type": "execute_result"
    }
   ],
   "source": [
    "df"
   ]
  },
  {
   "cell_type": "code",
   "execution_count": 110,
   "id": "c5c85682",
   "metadata": {},
   "outputs": [
    {
     "data": {
      "text/plain": [
       "{'lat': '37.5803145392146', 'lng': '127.07412522911'}"
      ]
     },
     "execution_count": 110,
     "metadata": {},
     "output_type": "execute_result"
    }
   ],
   "source": [
    "address = '서울특별시 동대문구 장안동 284-1'\n",
    "headers = {\"Authorization\": \"KakaoAK #RestAPI KEY#\"}\n",
    "url = 'https://dapi.kakao.com/v2/local/search/address.json?query=' + address\n",
    "api_json = json.loads(str(requests.get(url,headers=headers).text))\n",
    "address = api_json['documents'][0]['address']\n",
    "crd = {\"lat\": str(address['y']), \"lng\": str(address['x'])}\n",
    "crd"
   ]
  },
  {
   "cell_type": "code",
   "execution_count": 111,
   "id": "92268aa7",
   "metadata": {},
   "outputs": [],
   "source": [
    "import re"
   ]
  },
  {
   "cell_type": "code",
   "execution_count": 112,
   "id": "364b1cba",
   "metadata": {},
   "outputs": [],
   "source": [
    "text=re.search(r'(\\w+)\\s(\\w+)\\s(\\w+)\\s(\\w+)', '서울특별시 서초구 양재동 226')"
   ]
  },
  {
   "cell_type": "code",
   "execution_count": 113,
   "id": "bceaee7c",
   "metadata": {},
   "outputs": [
    {
     "data": {
      "text/plain": [
       "'서울특별시 서초구 양재동 226'"
      ]
     },
     "execution_count": 113,
     "metadata": {},
     "output_type": "execute_result"
    }
   ],
   "source": [
    "text.group()"
   ]
  },
  {
   "cell_type": "code",
   "execution_count": 115,
   "id": "befdcf52",
   "metadata": {
    "scrolled": true
   },
   "outputs": [
    {
     "data": {
      "text/plain": [
       "'서울특별시 서초구 양재동 226'"
      ]
     },
     "execution_count": 115,
     "metadata": {},
     "output_type": "execute_result"
    }
   ],
   "source": [
    "text.string"
   ]
  },
  {
   "cell_type": "code",
   "execution_count": 116,
   "id": "faf5a3ef",
   "metadata": {},
   "outputs": [
    {
     "name": "stderr",
     "output_type": "stream",
     "text": [
      "C:\\Users\\shin\\AppData\\Local\\Temp\\ipykernel_5352\\2789501830.py:1: SettingWithCopyWarning: \n",
      "A value is trying to be set on a copy of a slice from a DataFrame.\n",
      "Try using .loc[row_indexer,col_indexer] = value instead\n",
      "\n",
      "See the caveats in the documentation: https://pandas.pydata.org/pandas-docs/stable/user_guide/indexing.html#returning-a-view-versus-a-copy\n",
      "  df['주소'] = df['지역'].apply(lambda x: re.search(r'([가-힣]+\\s{1,}){3}([0-9-]+)', x).group())\n"
     ]
    }
   ],
   "source": [
    "df['주소'] = df['지역'].apply(lambda x: re.search(r'([가-힣]+\\s{1,}){3}([0-9-]+)', x).group())"
   ]
  },
  {
   "cell_type": "code",
   "execution_count": 117,
   "id": "5264e9ae",
   "metadata": {},
   "outputs": [
    {
     "data": {
      "text/html": [
       "<div>\n",
       "<style scoped>\n",
       "    .dataframe tbody tr th:only-of-type {\n",
       "        vertical-align: middle;\n",
       "    }\n",
       "\n",
       "    .dataframe tbody tr th {\n",
       "        vertical-align: top;\n",
       "    }\n",
       "\n",
       "    .dataframe thead th {\n",
       "        text-align: right;\n",
       "    }\n",
       "</style>\n",
       "<table border=\"1\" class=\"dataframe\">\n",
       "  <thead>\n",
       "    <tr style=\"text-align: right;\">\n",
       "      <th></th>\n",
       "      <th>물류터미널명</th>\n",
       "      <th>지역</th>\n",
       "      <th>규모</th>\n",
       "      <th>사업개시일</th>\n",
       "      <th>주소</th>\n",
       "    </tr>\n",
       "  </thead>\n",
       "  <tbody>\n",
       "    <tr>\n",
       "      <th>1</th>\n",
       "      <td>동부물류터미널</td>\n",
       "      <td>서울특별시 동대문구 장안동 284-1 외4필지</td>\n",
       "      <td>19463.0</td>\n",
       "      <td>1975/08/10</td>\n",
       "      <td>서울특별시 동대문구 장안동 284-1</td>\n",
       "    </tr>\n",
       "    <tr>\n",
       "      <th>2</th>\n",
       "      <td>서부트럭터미널</td>\n",
       "      <td>서울특별시 양천구 신정동 1315 외19필지</td>\n",
       "      <td>112111.0</td>\n",
       "      <td>1979/09/29</td>\n",
       "      <td>서울특별시 양천구 신정동 1315</td>\n",
       "    </tr>\n",
       "    <tr>\n",
       "      <th>6</th>\n",
       "      <td>한국트럭터미널</td>\n",
       "      <td>서울특별시 서초구 양재동 226</td>\n",
       "      <td>96017.0</td>\n",
       "      <td>1990/03/31</td>\n",
       "      <td>서울특별시 서초구 양재동 226</td>\n",
       "    </tr>\n",
       "  </tbody>\n",
       "</table>\n",
       "</div>"
      ],
      "text/plain": [
       "    물류터미널명                         지역        규모       사업개시일  \\\n",
       "1  동부물류터미널  서울특별시 동대문구 장안동 284-1 외4필지   19463.0  1975/08/10   \n",
       "2  서부트럭터미널   서울특별시 양천구 신정동 1315 외19필지  112111.0  1979/09/29   \n",
       "6  한국트럭터미널          서울특별시 서초구 양재동 226   96017.0  1990/03/31   \n",
       "\n",
       "                     주소  \n",
       "1  서울특별시 동대문구 장안동 284-1  \n",
       "2    서울특별시 양천구 신정동 1315  \n",
       "6     서울특별시 서초구 양재동 226  "
      ]
     },
     "execution_count": 117,
     "metadata": {},
     "output_type": "execute_result"
    }
   ],
   "source": [
    "df"
   ]
  },
  {
   "cell_type": "code",
   "execution_count": 122,
   "id": "358dc00c",
   "metadata": {},
   "outputs": [
    {
     "name": "stderr",
     "output_type": "stream",
     "text": [
      "C:\\Users\\shin\\AppData\\Local\\Temp\\ipykernel_5352\\789426873.py:1: SettingWithCopyWarning: \n",
      "A value is trying to be set on a copy of a slice from a DataFrame.\n",
      "Try using .loc[row_indexer,col_indexer] = value instead\n",
      "\n",
      "See the caveats in the documentation: https://pandas.pydata.org/pandas-docs/stable/user_guide/indexing.html#returning-a-view-versus-a-copy\n",
      "  df['경도'] = df['주소'].apply(lambda row: get_location(row)['lat'])\n",
      "C:\\Users\\shin\\AppData\\Local\\Temp\\ipykernel_5352\\789426873.py:2: SettingWithCopyWarning: \n",
      "A value is trying to be set on a copy of a slice from a DataFrame.\n",
      "Try using .loc[row_indexer,col_indexer] = value instead\n",
      "\n",
      "See the caveats in the documentation: https://pandas.pydata.org/pandas-docs/stable/user_guide/indexing.html#returning-a-view-versus-a-copy\n",
      "  df['위도'] = df['주소'].apply(lambda row: get_location(row)['lng'])\n"
     ]
    }
   ],
   "source": [
    "df['경도'] = df['주소'].apply(lambda row: get_location(row)['lat'])\n",
    "df['위도'] = df['주소'].apply(lambda row: get_location(row)['lng'])"
   ]
  },
  {
   "cell_type": "code",
   "execution_count": 128,
   "id": "402c7b78",
   "metadata": {},
   "outputs": [
    {
     "data": {
      "text/html": [
       "<div>\n",
       "<style scoped>\n",
       "    .dataframe tbody tr th:only-of-type {\n",
       "        vertical-align: middle;\n",
       "    }\n",
       "\n",
       "    .dataframe tbody tr th {\n",
       "        vertical-align: top;\n",
       "    }\n",
       "\n",
       "    .dataframe thead th {\n",
       "        text-align: right;\n",
       "    }\n",
       "</style>\n",
       "<table border=\"1\" class=\"dataframe\">\n",
       "  <thead>\n",
       "    <tr style=\"text-align: right;\">\n",
       "      <th></th>\n",
       "      <th>물류터미널명</th>\n",
       "      <th>지역</th>\n",
       "      <th>규모</th>\n",
       "      <th>사업개시일</th>\n",
       "      <th>주소</th>\n",
       "      <th>경도</th>\n",
       "      <th>위도</th>\n",
       "    </tr>\n",
       "  </thead>\n",
       "  <tbody>\n",
       "    <tr>\n",
       "      <th>1</th>\n",
       "      <td>동부물류터미널</td>\n",
       "      <td>서울특별시 동대문구 장안동 284-1 외4필지</td>\n",
       "      <td>19463.0</td>\n",
       "      <td>1975/08/10</td>\n",
       "      <td>서울특별시 동대문구 장안동 284-1</td>\n",
       "      <td>37.5803145392146</td>\n",
       "      <td>127.07412522911</td>\n",
       "    </tr>\n",
       "    <tr>\n",
       "      <th>2</th>\n",
       "      <td>서부트럭터미널</td>\n",
       "      <td>서울특별시 양천구 신정동 1315 외19필지</td>\n",
       "      <td>112111.0</td>\n",
       "      <td>1979/09/29</td>\n",
       "      <td>서울특별시 양천구 신정동 1315</td>\n",
       "      <td>37.5094875441515</td>\n",
       "      <td>126.839240684286</td>\n",
       "    </tr>\n",
       "    <tr>\n",
       "      <th>6</th>\n",
       "      <td>한국트럭터미널</td>\n",
       "      <td>서울특별시 서초구 양재동 226</td>\n",
       "      <td>96017.0</td>\n",
       "      <td>1990/03/31</td>\n",
       "      <td>서울특별시 서초구 양재동 226</td>\n",
       "      <td>37.4610970914885</td>\n",
       "      <td>127.038076189381</td>\n",
       "    </tr>\n",
       "  </tbody>\n",
       "</table>\n",
       "</div>"
      ],
      "text/plain": [
       "    물류터미널명                         지역        규모       사업개시일  \\\n",
       "1  동부물류터미널  서울특별시 동대문구 장안동 284-1 외4필지   19463.0  1975/08/10   \n",
       "2  서부트럭터미널   서울특별시 양천구 신정동 1315 외19필지  112111.0  1979/09/29   \n",
       "6  한국트럭터미널          서울특별시 서초구 양재동 226   96017.0  1990/03/31   \n",
       "\n",
       "                     주소                경도                위도  \n",
       "1  서울특별시 동대문구 장안동 284-1  37.5803145392146   127.07412522911  \n",
       "2    서울특별시 양천구 신정동 1315  37.5094875441515  126.839240684286  \n",
       "6     서울특별시 서초구 양재동 226  37.4610970914885  127.038076189381  "
      ]
     },
     "execution_count": 128,
     "metadata": {},
     "output_type": "execute_result"
    }
   ],
   "source": [
    "df"
   ]
  },
  {
   "cell_type": "code",
   "execution_count": 126,
   "id": "73ea9b83",
   "metadata": {},
   "outputs": [],
   "source": [
    "df[['물류터미널명', '경도', '위도']].to_csv(\"logistic_location.csv\", encoding='utf-8', index=False)"
   ]
  },
  {
   "cell_type": "markdown",
   "id": "815dda78",
   "metadata": {},
   "source": [
    "## Passenger terminals"
   ]
  },
  {
   "cell_type": "code",
   "execution_count": 129,
   "id": "699fb129",
   "metadata": {},
   "outputs": [],
   "source": [
    "df = pd.DataFrame({'여객터미널명': ['서울고속버스터미널', '센트럴시티', '서울남부터미널', '동서울종합터미널', '상봉터미널'],\n",
    "                  '주소': ['서울특별시 서초구 신반포로 194 ',\n",
    "                           '서울특별시 서초구 신반포로 176',\n",
    "                           '서울특별시 서초구 효령로 292',\n",
    "                           '서울특별시 광진구 구의동 546-1',\n",
    "                           '서울특별시 중랑구 상봉동 83-8']})"
   ]
  },
  {
   "cell_type": "code",
   "execution_count": 131,
   "id": "c18b3d30",
   "metadata": {},
   "outputs": [
    {
     "data": {
      "text/html": [
       "<div>\n",
       "<style scoped>\n",
       "    .dataframe tbody tr th:only-of-type {\n",
       "        vertical-align: middle;\n",
       "    }\n",
       "\n",
       "    .dataframe tbody tr th {\n",
       "        vertical-align: top;\n",
       "    }\n",
       "\n",
       "    .dataframe thead th {\n",
       "        text-align: right;\n",
       "    }\n",
       "</style>\n",
       "<table border=\"1\" class=\"dataframe\">\n",
       "  <thead>\n",
       "    <tr style=\"text-align: right;\">\n",
       "      <th></th>\n",
       "      <th>여객터미널명</th>\n",
       "      <th>주소</th>\n",
       "    </tr>\n",
       "  </thead>\n",
       "  <tbody>\n",
       "    <tr>\n",
       "      <th>0</th>\n",
       "      <td>서울고속버스터미널</td>\n",
       "      <td>서울특별시 서초구 신반포로 194</td>\n",
       "    </tr>\n",
       "    <tr>\n",
       "      <th>1</th>\n",
       "      <td>센트럴시티</td>\n",
       "      <td>서울특별시 서초구 신반포로 176</td>\n",
       "    </tr>\n",
       "    <tr>\n",
       "      <th>2</th>\n",
       "      <td>서울남부터미널</td>\n",
       "      <td>서울특별시 서초구 효령로 292</td>\n",
       "    </tr>\n",
       "    <tr>\n",
       "      <th>3</th>\n",
       "      <td>동서울종합터미널</td>\n",
       "      <td>서울특별시 광진구 구의동 546-1</td>\n",
       "    </tr>\n",
       "    <tr>\n",
       "      <th>4</th>\n",
       "      <td>상봉터미널</td>\n",
       "      <td>서울특별시 중랑구 상봉동 83-8</td>\n",
       "    </tr>\n",
       "  </tbody>\n",
       "</table>\n",
       "</div>"
      ],
      "text/plain": [
       "      여객터미널명                   주소\n",
       "0  서울고속버스터미널  서울특별시 서초구 신반포로 194 \n",
       "1      센트럴시티   서울특별시 서초구 신반포로 176\n",
       "2    서울남부터미널    서울특별시 서초구 효령로 292\n",
       "3   동서울종합터미널  서울특별시 광진구 구의동 546-1\n",
       "4      상봉터미널   서울특별시 중랑구 상봉동 83-8"
      ]
     },
     "execution_count": 131,
     "metadata": {},
     "output_type": "execute_result"
    }
   ],
   "source": [
    "df"
   ]
  },
  {
   "cell_type": "code",
   "execution_count": 132,
   "id": "fb018199",
   "metadata": {},
   "outputs": [],
   "source": [
    "df['경도'] = df['주소'].apply(lambda row: get_location(row)['lat'])\n",
    "df['위도'] = df['주소'].apply(lambda row: get_location(row)['lng'])"
   ]
  },
  {
   "cell_type": "code",
   "execution_count": 133,
   "id": "68c713b3",
   "metadata": {},
   "outputs": [
    {
     "data": {
      "text/html": [
       "<div>\n",
       "<style scoped>\n",
       "    .dataframe tbody tr th:only-of-type {\n",
       "        vertical-align: middle;\n",
       "    }\n",
       "\n",
       "    .dataframe tbody tr th {\n",
       "        vertical-align: top;\n",
       "    }\n",
       "\n",
       "    .dataframe thead th {\n",
       "        text-align: right;\n",
       "    }\n",
       "</style>\n",
       "<table border=\"1\" class=\"dataframe\">\n",
       "  <thead>\n",
       "    <tr style=\"text-align: right;\">\n",
       "      <th></th>\n",
       "      <th>여객터미널명</th>\n",
       "      <th>주소</th>\n",
       "      <th>경도</th>\n",
       "      <th>위도</th>\n",
       "    </tr>\n",
       "  </thead>\n",
       "  <tbody>\n",
       "    <tr>\n",
       "      <th>0</th>\n",
       "      <td>서울고속버스터미널</td>\n",
       "      <td>서울특별시 서초구 신반포로 194</td>\n",
       "      <td>37.5064357442307</td>\n",
       "      <td>127.006834366246</td>\n",
       "    </tr>\n",
       "    <tr>\n",
       "      <th>1</th>\n",
       "      <td>센트럴시티</td>\n",
       "      <td>서울특별시 서초구 신반포로 176</td>\n",
       "      <td>37.5039351769908</td>\n",
       "      <td>127.002413006799</td>\n",
       "    </tr>\n",
       "    <tr>\n",
       "      <th>2</th>\n",
       "      <td>서울남부터미널</td>\n",
       "      <td>서울특별시 서초구 효령로 292</td>\n",
       "      <td>37.4835466074664</td>\n",
       "      <td>127.015110886678</td>\n",
       "    </tr>\n",
       "    <tr>\n",
       "      <th>3</th>\n",
       "      <td>동서울종합터미널</td>\n",
       "      <td>서울특별시 광진구 구의동 546-1</td>\n",
       "      <td>37.5339176560567</td>\n",
       "      <td>127.093585434282</td>\n",
       "    </tr>\n",
       "    <tr>\n",
       "      <th>4</th>\n",
       "      <td>상봉터미널</td>\n",
       "      <td>서울특별시 중랑구 상봉동 83-8</td>\n",
       "      <td>37.5960840930719</td>\n",
       "      <td>127.092704589604</td>\n",
       "    </tr>\n",
       "  </tbody>\n",
       "</table>\n",
       "</div>"
      ],
      "text/plain": [
       "      여객터미널명                   주소                경도                위도\n",
       "0  서울고속버스터미널  서울특별시 서초구 신반포로 194   37.5064357442307  127.006834366246\n",
       "1      센트럴시티   서울특별시 서초구 신반포로 176  37.5039351769908  127.002413006799\n",
       "2    서울남부터미널    서울특별시 서초구 효령로 292  37.4835466074664  127.015110886678\n",
       "3   동서울종합터미널  서울특별시 광진구 구의동 546-1  37.5339176560567  127.093585434282\n",
       "4      상봉터미널   서울특별시 중랑구 상봉동 83-8  37.5960840930719  127.092704589604"
      ]
     },
     "execution_count": 133,
     "metadata": {},
     "output_type": "execute_result"
    }
   ],
   "source": [
    "df"
   ]
  },
  {
   "cell_type": "code",
   "execution_count": 134,
   "id": "42173787",
   "metadata": {},
   "outputs": [],
   "source": [
    "df.to_csv(\"passenger_location.csv\", encoding='utf-8', index=False)"
   ]
  }
 ],
 "metadata": {
  "kernelspec": {
   "display_name": "Python 3 (ipykernel)",
   "language": "python",
   "name": "python3"
  },
  "language_info": {
   "codemirror_mode": {
    "name": "ipython",
    "version": 3
   },
   "file_extension": ".py",
   "mimetype": "text/x-python",
   "name": "python",
   "nbconvert_exporter": "python",
   "pygments_lexer": "ipython3",
   "version": "3.10.5"
  }
 },
 "nbformat": 4,
 "nbformat_minor": 5
}
